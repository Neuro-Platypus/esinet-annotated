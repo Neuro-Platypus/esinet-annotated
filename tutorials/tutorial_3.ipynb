{
 "cells": [
  {
   "cell_type": "markdown",
   "metadata": {},
   "source": [
    "# Tutorial 3: How simulations define your predictions\n",
    "The inverse problem has no unique solution as it is ill-posed. In order to solve it we need to constraint the space of possible solutions. While inverse solutions like minimum-norm estimates have an explicit constraint of minimum-energy, the constraints with esinet are implicit and mostly shaped by the simulations.\n",
    "\n",
    "This tutorial aims the relation between simulation parameters and predictions."
   ]
  },
  {
   "cell_type": "code",
   "execution_count": 1,
   "metadata": {},
   "outputs": [],
   "source": [
    "%matplotlib inline\n",
    "%load_ext autoreload\n",
    "%autoreload 2\n",
    "\n",
    "# import mne\n",
    "# import numpy as np\n",
    "# from copy import deepcopy\n",
    "# import matplotlib.pyplot as plt\n",
    "import sys; sys.path.insert(0, '../')\n",
    "#from esinet import util\n",
    "from esinet import Simulation\n",
    "from esinet import Net\n",
    "from esinet.forward import create_forward_model, get_info\n",
    "plot_params = dict(surface='white', hemi='both', verbose=0)"
   ]
  },
  {
   "cell_type": "markdown",
   "metadata": {},
   "source": [
    "## Create Forward model\n",
    "First we create a template forward model which comes with the esinet package"
   ]
  },
  {
   "cell_type": "code",
   "execution_count": 2,
   "metadata": {},
   "outputs": [
    {
     "name": "stderr",
     "output_type": "stream",
     "text": [
      "[Parallel(n_jobs=16)]: Using backend LokyBackend with 16 concurrent workers.\n",
      "[Parallel(n_jobs=16)]: Done   5 out of  16 | elapsed:    1.5s remaining:    3.5s\n",
      "[Parallel(n_jobs=16)]: Done   9 out of  16 | elapsed:    1.6s remaining:    1.2s\n",
      "[Parallel(n_jobs=16)]: Done  13 out of  16 | elapsed:    1.6s remaining:    0.3s\n",
      "[Parallel(n_jobs=16)]: Done  16 out of  16 | elapsed:    1.6s finished\n",
      "[Parallel(n_jobs=16)]: Using backend LokyBackend with 16 concurrent workers.\n",
      "[Parallel(n_jobs=16)]: Done   5 out of  16 | elapsed:    0.0s remaining:    0.1s\n",
      "[Parallel(n_jobs=16)]: Done   9 out of  16 | elapsed:    0.0s remaining:    0.0s\n",
      "[Parallel(n_jobs=16)]: Done  13 out of  16 | elapsed:    0.0s remaining:    0.0s\n",
      "[Parallel(n_jobs=16)]: Done  16 out of  16 | elapsed:    0.0s finished\n",
      "[Parallel(n_jobs=16)]: Using backend LokyBackend with 16 concurrent workers.\n",
      "[Parallel(n_jobs=16)]: Done   5 out of  16 | elapsed:    0.0s remaining:    0.2s\n",
      "[Parallel(n_jobs=16)]: Done   9 out of  16 | elapsed:    0.0s remaining:    0.0s\n",
      "[Parallel(n_jobs=16)]: Done  13 out of  16 | elapsed:    0.1s remaining:    0.0s\n",
      "[Parallel(n_jobs=16)]: Done  16 out of  16 | elapsed:    0.1s finished\n"
     ]
    }
   ],
   "source": [
    "info = get_info(sfreq=100)\n",
    "fwd = create_forward_model(info=info)"
   ]
  },
  {
   "cell_type": "markdown",
   "metadata": {},
   "source": [
    "## Simulate\n",
    "Next, we simulate two types of data: \n",
    "1. Data containing small sources with 15-25 mm in diameter.\n",
    "2. Data containing large sources with 35-45 mm in diameter.\n",
    "\n",
    "Note, that for publication-ready inverse solutions you should increase the number of training samples to 100,000."
   ]
  },
  {
   "cell_type": "code",
   "execution_count": 3,
   "metadata": {},
   "outputs": [
    {
     "name": "stdout",
     "output_type": "stream",
     "text": [
      "-- number of adjacent vertices : 1284\n",
      "Simulating data based on sparse patches.\n"
     ]
    },
    {
     "name": "stderr",
     "output_type": "stream",
     "text": [
      "100%|██████████| 1000/1000 [00:03<00:00, 287.87it/s]\n",
      "100%|██████████| 1000/1000 [00:00<00:00, 16442.96it/s]\n"
     ]
    },
    {
     "name": "stdout",
     "output_type": "stream",
     "text": [
      "source data shape:  (1284, 100) (1284, 100)\n"
     ]
    },
    {
     "name": "stderr",
     "output_type": "stream",
     "text": [
      "100%|██████████| 1000/1000 [00:06<00:00, 147.67it/s]\n"
     ]
    },
    {
     "name": "stdout",
     "output_type": "stream",
     "text": [
      "-- number of adjacent vertices : 1284\n",
      "Simulating data based on sparse patches.\n"
     ]
    },
    {
     "name": "stderr",
     "output_type": "stream",
     "text": [
      "100%|██████████| 1000/1000 [00:03<00:00, 252.74it/s]\n",
      "100%|██████████| 1000/1000 [00:00<00:00, 10781.47it/s]\n"
     ]
    },
    {
     "name": "stdout",
     "output_type": "stream",
     "text": [
      "source data shape:  (1284, 100) (1284, 100)\n"
     ]
    },
    {
     "name": "stderr",
     "output_type": "stream",
     "text": [
      "100%|██████████| 1000/1000 [00:06<00:00, 145.98it/s]\n"
     ]
    }
   ],
   "source": [
    "n_samples = 1000\n",
    "settings_small = dict(number_of_sources=(1, 10), extents=(15, 25))\n",
    "settings_large = dict(number_of_sources=(1, 10), extents=(35, 45))\n",
    "\n",
    "sim_small = Simulation(fwd, info, settings=settings_small).simulate(n_samples=n_samples)\n",
    "sim_large = Simulation(fwd, info, settings=settings_large).simulate(n_samples=n_samples)\n"
   ]
  },
  {
   "cell_type": "markdown",
   "metadata": {},
   "source": [
    "## Lets visualize the two types of simulations\n",
    "The two brain plots should now look quite different, as one contains large and extended sources while the other contains tiny point-like sources."
   ]
  },
  {
   "cell_type": "code",
   "execution_count": 4,
   "metadata": {},
   "outputs": [],
   "source": [
    "idx = 0\n",
    "brain = sim_small.source_data[idx].plot(**plot_params)\n",
    "brain.add_text(0.1, 0.9, 'Small sources', 'title',\n",
    "               font_size=14)\n",
    "\n",
    "brain = sim_large.source_data[idx].plot(**plot_params)\n",
    "brain.add_text(0.1, 0.9, 'Large sources', 'title',\n",
    "               font_size=14)"
   ]
  },
  {
   "cell_type": "markdown",
   "metadata": {},
   "source": [
    "## Train individual neural networks"
   ]
  },
  {
   "cell_type": "code",
   "execution_count": 5,
   "metadata": {},
   "outputs": [
    {
     "name": "stdout",
     "output_type": "stream",
     "text": [
      "preprocess data\n",
      "Model: \"Dense-model\"\n",
      "_________________________________________________________________\n",
      " Layer (type)                Output Shape              Param #   \n",
      "=================================================================\n",
      " FC_0 (TimeDistributed)      (None, None, 100)         6200      \n",
      "                                                                 \n",
      " Drop_0 (Dropout)            (None, None, 100)         0         \n",
      "                                                                 \n",
      " FC_Out (TimeDistributed)    (None, None, 1284)        129684    \n",
      "                                                                 \n",
      "=================================================================\n",
      "Total params: 135,884\n",
      "Trainable params: 135,884\n",
      "Non-trainable params: 0\n",
      "_________________________________________________________________\n",
      "fit model\n",
      "Epoch 1/10\n",
      "112/112 [==============================] - 1s 7ms/step - loss: -0.0519 - mae: 0.0688 - val_loss: -0.0968 - val_mae: 0.0635\n",
      "Epoch 2/10\n",
      "112/112 [==============================] - 1s 5ms/step - loss: -0.1157 - mae: 0.0656 - val_loss: -0.1286 - val_mae: 0.0565\n",
      "Epoch 3/10\n",
      "112/112 [==============================] - 1s 6ms/step - loss: -0.1463 - mae: 0.0614 - val_loss: -0.1454 - val_mae: 0.0538\n",
      "Epoch 4/10\n",
      "112/112 [==============================] - 1s 6ms/step - loss: -0.1652 - mae: 0.0589 - val_loss: -0.1560 - val_mae: 0.0515\n",
      "Epoch 5/10\n",
      "112/112 [==============================] - 1s 6ms/step - loss: -0.1774 - mae: 0.0570 - val_loss: -0.1624 - val_mae: 0.0504\n",
      "Epoch 6/10\n",
      "112/112 [==============================] - 1s 5ms/step - loss: -0.1866 - mae: 0.0556 - val_loss: -0.1669 - val_mae: 0.0495\n",
      "Epoch 7/10\n",
      "112/112 [==============================] - 1s 5ms/step - loss: -0.1929 - mae: 0.0547 - val_loss: -0.1705 - val_mae: 0.0481\n",
      "Epoch 8/10\n",
      "112/112 [==============================] - 1s 6ms/step - loss: -0.1979 - mae: 0.0537 - val_loss: -0.1718 - val_mae: 0.0478\n",
      "Epoch 9/10\n",
      "112/112 [==============================] - 1s 6ms/step - loss: -0.2014 - mae: 0.0532 - val_loss: -0.1757 - val_mae: 0.0475\n",
      "Epoch 10/10\n",
      "112/112 [==============================] - 1s 6ms/step - loss: -0.2047 - mae: 0.0526 - val_loss: -0.1754 - val_mae: 0.0475\n",
      "preprocess data\n",
      "Model: \"Dense-model\"\n",
      "_________________________________________________________________\n",
      " Layer (type)                Output Shape              Param #   \n",
      "=================================================================\n",
      " FC_0 (TimeDistributed)      (None, None, 100)         6200      \n",
      "                                                                 \n",
      " Drop_0 (Dropout)            (None, None, 100)         0         \n",
      "                                                                 \n",
      " FC_Out (TimeDistributed)    (None, None, 1284)        129684    \n",
      "                                                                 \n",
      "=================================================================\n",
      "Total params: 135,884\n",
      "Trainable params: 135,884\n",
      "Non-trainable params: 0\n",
      "_________________________________________________________________\n",
      "fit model\n",
      "Epoch 1/10\n",
      "112/112 [==============================] - 1s 7ms/step - loss: -0.2373 - mae: 0.0872 - val_loss: -0.3656 - val_mae: 0.0756\n",
      "Epoch 2/10\n",
      "112/112 [==============================] - 1s 6ms/step - loss: -0.3831 - mae: 0.0793 - val_loss: -0.4277 - val_mae: 0.0722\n",
      "Epoch 3/10\n",
      "112/112 [==============================] - 1s 6ms/step - loss: -0.4253 - mae: 0.0782 - val_loss: -0.4501 - val_mae: 0.0722\n",
      "Epoch 4/10\n",
      "112/112 [==============================] - 1s 6ms/step - loss: -0.4434 - mae: 0.0787 - val_loss: -0.4614 - val_mae: 0.0723\n",
      "Epoch 5/10\n",
      "112/112 [==============================] - 1s 6ms/step - loss: -0.4549 - mae: 0.0783 - val_loss: -0.4667 - val_mae: 0.0719\n",
      "Epoch 6/10\n",
      "112/112 [==============================] - 1s 6ms/step - loss: -0.4617 - mae: 0.0782 - val_loss: -0.4744 - val_mae: 0.0724\n",
      "Epoch 7/10\n",
      "112/112 [==============================] - 1s 6ms/step - loss: -0.4674 - mae: 0.0786 - val_loss: -0.4757 - val_mae: 0.0724\n",
      "Epoch 8/10\n",
      "112/112 [==============================] - 1s 6ms/step - loss: -0.4705 - mae: 0.0788 - val_loss: -0.4783 - val_mae: 0.0725\n",
      "Epoch 9/10\n",
      "112/112 [==============================] - 1s 6ms/step - loss: -0.4734 - mae: 0.0792 - val_loss: -0.4801 - val_mae: 0.0732\n",
      "Epoch 10/10\n",
      "112/112 [==============================] - 1s 6ms/step - loss: -0.4757 - mae: 0.0800 - val_loss: -0.4820 - val_mae: 0.0731\n"
     ]
    }
   ],
   "source": [
    "model_type = 'FC'  # can be 'LSTM' or 'ConvDip', too\n",
    "net_small = Net(fwd, verbose=True, model_type=model_type).fit(sim_small, epochs=10)\n",
    "net_large = Net(fwd, verbose=True, model_type=model_type).fit(sim_large, epochs=10)"
   ]
  },
  {
   "cell_type": "markdown",
   "metadata": {},
   "source": [
    "Now we have simulated two different types of source & eeg data and build two neural networks that each was trained on one of these simulations. Lets see how they perform within their own simulation type."
   ]
  },
  {
   "cell_type": "code",
   "execution_count": 6,
   "metadata": {},
   "outputs": [
    {
     "name": "stdout",
     "output_type": "stream",
     "text": [
      "-- number of adjacent vertices : 1284\n",
      "Simulating data based on sparse patches.\n"
     ]
    },
    {
     "name": "stderr",
     "output_type": "stream",
     "text": [
      "100%|██████████| 2/2 [00:00<00:00, 398.87it/s]\n",
      "100%|██████████| 2/2 [00:00<?, ?it/s]\n"
     ]
    },
    {
     "name": "stdout",
     "output_type": "stream",
     "text": [
      "source data shape:  (1284, 100) (1284, 100)\n"
     ]
    },
    {
     "name": "stderr",
     "output_type": "stream",
     "text": [
      "100%|██████████| 2/2 [00:00<00:00, 143.25it/s]"
     ]
    },
    {
     "name": "stdout",
     "output_type": "stream",
     "text": [
      "-- number of adjacent vertices : 1284\n"
     ]
    },
    {
     "name": "stderr",
     "output_type": "stream",
     "text": [
      "\n"
     ]
    },
    {
     "name": "stdout",
     "output_type": "stream",
     "text": [
      "Simulating data based on sparse patches.\n"
     ]
    },
    {
     "name": "stderr",
     "output_type": "stream",
     "text": [
      "100%|██████████| 2/2 [00:00<00:00,  5.54it/s]\n",
      "100%|██████████| 2/2 [00:00<?, ?it/s]\n"
     ]
    },
    {
     "name": "stdout",
     "output_type": "stream",
     "text": [
      "source data shape:  (1284, 100) (1284, 100)\n"
     ]
    },
    {
     "name": "stderr",
     "output_type": "stream",
     "text": [
      "100%|██████████| 2/2 [00:00<00:00, 142.89it/s]\n",
      "c:\\Users\\Moritz\\Envs\\maesinet\\lib\\site-packages\\scipy\\optimize\\_minimize.py:783: RuntimeWarning: Method 'bounded' does not support relative tolerance in x; defaulting to absolute tolerance.\n",
      "  warn(\"Method 'bounded' does not support relative tolerance in x; \"\n",
      "c:\\Users\\Moritz\\Envs\\maesinet\\lib\\site-packages\\scipy\\optimize\\_minimize.py:783: RuntimeWarning: Method 'bounded' does not support relative tolerance in x; defaulting to absolute tolerance.\n",
      "  warn(\"Method 'bounded' does not support relative tolerance in x; \"\n"
     ]
    }
   ],
   "source": [
    "# Simulate some new, unseen test data    \n",
    "n_test_samples = 2\n",
    "sim_test_small = Simulation(fwd, info, settings=settings_small).simulate(n_samples=n_test_samples)\n",
    "sim_test_large = Simulation(fwd, info, settings=settings_large).simulate(n_samples=n_test_samples)\n",
    "\n",
    "\n",
    "brain = sim_test_small.source_data[0].plot(**plot_params)\n",
    "brain.add_text(0.1, 0.9, 'Ground Truth of small data', 'title',\n",
    "               font_size=14)\n",
    "\n",
    "\n",
    "brain = net_small.predict(sim_test_small)[0].plot(**plot_params)\n",
    "brain.add_text(0.1, 0.9, 'Small-Net on small data', 'title',\n",
    "               font_size=14)\n",
    "\n",
    "\n",
    "\n",
    "brain = sim_test_large.source_data[0].plot(**plot_params)\n",
    "brain.add_text(0.1, 0.9, 'Ground Truth of large data', 'title',\n",
    "               font_size=14)\n",
    "\n",
    "\n",
    "brain = net_large.predict(sim_test_large)[0].plot(**plot_params)\n",
    "brain.add_text(0.1, 0.9, 'Large-Net on large data', 'title',\n",
    "               font_size=14)"
   ]
  },
  {
   "cell_type": "markdown",
   "metadata": {},
   "source": [
    "Now we will use the large-net to predict the small simulation and vice versa."
   ]
  },
  {
   "cell_type": "code",
   "execution_count": 7,
   "metadata": {},
   "outputs": [
    {
     "name": "stderr",
     "output_type": "stream",
     "text": [
      "c:\\Users\\Moritz\\Envs\\maesinet\\lib\\site-packages\\scipy\\optimize\\_minimize.py:783: RuntimeWarning: Method 'bounded' does not support relative tolerance in x; defaulting to absolute tolerance.\n",
      "  warn(\"Method 'bounded' does not support relative tolerance in x; \"\n",
      "c:\\Users\\Moritz\\Envs\\maesinet\\lib\\site-packages\\scipy\\optimize\\_minimize.py:783: RuntimeWarning: Method 'bounded' does not support relative tolerance in x; defaulting to absolute tolerance.\n",
      "  warn(\"Method 'bounded' does not support relative tolerance in x; \"\n"
     ]
    }
   ],
   "source": [
    "brain = sim_test_small.source_data[0].plot(**plot_params)\n",
    "brain.add_text(0.1, 0.9, 'Ground Truth of small data', 'title',\n",
    "               font_size=14)\n",
    "\n",
    "\n",
    "brain = net_large.predict(sim_test_small)[0].plot(**plot_params)\n",
    "brain.add_text(0.1, 0.9, 'Large-Net on small data', 'title',\n",
    "               font_size=14)\n",
    "\n",
    "\n",
    "\n",
    "brain = sim_test_large.source_data[0].plot(**plot_params)\n",
    "brain.add_text(0.1, 0.9, 'Ground Truth of large data', 'title',\n",
    "               font_size=14)\n",
    "\n",
    "\n",
    "brain = net_small.predict(sim_test_large)[0].plot(**plot_params)\n",
    "brain.add_text(0.1, 0.9, 'Small-Net on large data', 'title',\n",
    "               font_size=14)"
   ]
  },
  {
   "cell_type": "markdown",
   "metadata": {},
   "source": [
    "We now find that the Net which was trained on large simulations always tends to find large sources - even when confronted with data in which small sources were active. \n",
    "\n",
    "Conversely, the Net which was trained on simulations that contain small sources finds sparse sources when confronted with data containing large-source activity.\n",
    "\n",
    "This demonstrates that our simulation settings function like priors. Further, it emphasizes the importance to state your priors and to motivate your choice.\n",
    "\n",
    "In many cases we can't make a choice and we want to make as few assumptions into our models as possible. In this case we propose that you use large ranges in your settings to maximize the diversity of your training data.\n",
    "\n",
    "A sample of a diverse setting is given in the next cell:"
   ]
  },
  {
   "cell_type": "code",
   "execution_count": null,
   "metadata": {},
   "outputs": [],
   "source": [
    "settings = {\n",
    "    'number_of_sources': (1, 20),  # The range of simultaneously active sources.\n",
    "    'extents': (1, 50),  # The range of source diameters in mm \n",
    "    'amplitudes': (1, 100),  # Defines the range of amplitudes (in arbitrary units)\n",
    "    'shapes': 'both',  # Simulate both gaussian-shaped and flat sources\n",
    "    'beta': (0, 3),  # Defines the distribution of the noise in terms of 1/f**beta\n",
    "}"
   ]
  }
 ],
 "metadata": {
  "interpreter": {
   "hash": "e7699da467dfdd5c90d63e0b498dc1f31324d02e4fc32e5c7665a4a80b7b1db9"
  },
  "kernelspec": {
   "display_name": "Python 3.9.9 ('maesinet')",
   "language": "python",
   "name": "python3"
  },
  "language_info": {
   "codemirror_mode": {
    "name": "ipython",
    "version": 3
   },
   "file_extension": ".py",
   "mimetype": "text/x-python",
   "name": "python",
   "nbconvert_exporter": "python",
   "pygments_lexer": "ipython3",
   "version": "3.9.9"
  },
  "orig_nbformat": 4
 },
 "nbformat": 4,
 "nbformat_minor": 2
}
